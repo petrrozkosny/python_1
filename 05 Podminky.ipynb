{
 "cells": [
  {
   "cell_type": "markdown",
   "id": "6f2d10ec",
   "metadata": {},
   "source": [
    "<h2>Definice podminky</h2>\n",
    "\n",
    "- zacatek podminky uvozujeme klicovym slovem if, za kterym nasleduje podminka a dvojtecka\n",
    "- kod platny v pripade splneni podminky je odsazen\n",
    "- kazdou dalsi podminku testujeme slovem elif, za kterou nasleduje podminka a dvojtecka\n",
    "- alternativni hodnotu uvozujeme klicovym slovem else, za kterym nasleduje dvojtecka\n",
    "\n",
    "K definici podminky pouzivame operatory platne k danemu datovemu typu."
   ]
  },
  {
   "cell_type": "code",
   "execution_count": 11,
   "id": "304df65f",
   "metadata": {},
   "outputs": [
    {
     "name": "stdout",
     "output_type": "stream",
     "text": [
      "Klic Praha nema doplnenou hodnotu, protoze nema kraj\n",
      "Hodnota klice Brno je: Jihomoravsky\n",
      "Hodnota klice Ostrava je: Moravskoslezsky\n",
      "Pro klic Plzen chybi hodnota\n",
      "\n",
      "\n",
      "Preskakuji, klic Praha nema kraj\n",
      "Hodnota klice Brno je Jihomoravsky\n",
      "Hodnota klice Ostrava je Moravskoslezsky\n",
      "Hodnota klice Plzen je None\n"
     ]
    }
   ],
   "source": [
    "mesta = {'Praha':None,'Brno':'Jihomoravsky','Ostrava':'Moravskoslezsky','Plzen':None}\n",
    "\n",
    "for k,v in mesta.items():\n",
    "    if v != None:\n",
    "        print(f'Hodnota klice {k} je: {v}')\n",
    "    else:\n",
    "        if k == 'Praha':\n",
    "            print(f'Klic Praha nema doplnenou hodnotu, protoze nema kraj')\n",
    "        else:\n",
    "            print(f'Pro klic {k} chybi hodnota')\n",
    "            \n",
    "print('\\n') #vytvoreni prazdneho radku            \n",
    "for k,v in mesta.items():\n",
    "    if k == 'Praha':\n",
    "        print('Preskakuji, klic Praha nema kraj')\n",
    "    elif k == 'Brno':\n",
    "        print(f'Hodnota klice Brno je {v}')\n",
    "    else:\n",
    "        print(f'Hodnota klice {k} je {v}')\n",
    "        \n",
    "\n"
   ]
  },
  {
   "cell_type": "markdown",
   "id": "b41b065a",
   "metadata": {},
   "source": [
    "<h3>Prednost operatoru</h3>\n",
    "\n",
    "Pri kombinaci vice operatoru (logickych ci porovnavacich), Python vyhodnocuje podminky v tomto poradi: https://docs.python.org/3/reference/expressions.html#operator-precedence\n",
    "\n",
    "Vice k tomuto tematu i s priklady napr. zde: https://www.programiz.com/python-programming/precedence-associativity\n",
    "\n",
    "Z tohoto duvodu je vhodne uvozovat jednotlive podminky zavorkami"
   ]
  },
  {
   "cell_type": "code",
   "execution_count": 20,
   "id": "d93701c7",
   "metadata": {},
   "outputs": [
    {
     "name": "stdout",
     "output_type": "stream",
     "text": [
      "Podminka splnena Praha\n",
      "Podminka2 splnena Praha\n",
      "Podminka splnena Plzen\n",
      "Podminka2 splnena Plzen\n"
     ]
    }
   ],
   "source": [
    "mesta = {'Praha':None,'Brno':'Jihomoravsky','Ostrava':'Moravskoslezsky','Plzen':None}\n",
    "\n",
    "for k,v in mesta.items():\n",
    "    \n",
    "    if (k=='Praha') or (k=='Plzen') and (v==None):\n",
    "        print(f'Podminka splnena {k}')\n",
    "    if ((k=='Praha') and (v==None)) or ((k=='Plzen') and (v==None)):\n",
    "        print(f'Podminka2 splnena {k}')\n",
    "\n",
    "    "
   ]
  },
  {
   "cell_type": "code",
   "execution_count": null,
   "id": "e6e890fa",
   "metadata": {},
   "outputs": [],
   "source": [
    "#Cviceni1\n",
    "\n",
    "mesta_pocet_obyvatel = {'Praha':1275406,'Brno':379466,'Ostrava':279791,'Plzen':None}\n",
    "mesta_cr_kraje = {'Praha':None,'Brno':'Jihomoravsky','Ostrava':'Moravskoslezsky','Plzen':None}\n",
    "\n",
    "# 1. Prochazejte slovnik mesta_pocet_obyvatel,\n",
    "#     - pokud je hodnota klice vyssi 1000000, vypiste 'velke mesto'\n",
    "#     - pokud je hodnota klice vyssi 300000, vypiste 'stredni mesto'\n",
    "#     - jinak vypiste 'mesto'\n",
    "    \n",
    "    \n",
    "# 2. Prochazejte slovnik mesta_cr_kraje,\n",
    "#     - pokud je hodnota None a klic neni Praha, vypiste Ke klici {klic} neprirazena hodnota\n",
    "#     - pokud je hodnota None a klic je Praha, zastavte aktualni iteraci a pokracujte dale\n",
    "#     - v opacnem pripade vypiste Hodnota klice {klic} je: {hodnota}\n",
    "    \n",
    "\n"
   ]
  }
 ],
 "metadata": {
  "kernelspec": {
   "display_name": "Python 3 (ipykernel)",
   "language": "python",
   "name": "python3"
  },
  "language_info": {
   "codemirror_mode": {
    "name": "ipython",
    "version": 3
   },
   "file_extension": ".py",
   "mimetype": "text/x-python",
   "name": "python",
   "nbconvert_exporter": "python",
   "pygments_lexer": "ipython3",
   "version": "3.10.2"
  }
 },
 "nbformat": 4,
 "nbformat_minor": 5
}
