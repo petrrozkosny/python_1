{
 "cells": [
  {
   "cell_type": "code",
   "execution_count": 5,
   "id": "4d86293a",
   "metadata": {},
   "outputs": [
    {
     "name": "stdout",
     "output_type": "stream",
     "text": [
      "Zadejte mesto Kromeriz\n",
      "['Praha', 'Brno', 'Ostrava', 'Kromeriz']\n",
      "['Brno', 'Ostrava', 'Kromeriz']\n"
     ]
    }
   ],
   "source": [
    "# Cviceni1\n",
    "\n",
    "# 1. Vytvorte promennou mesta typu list s hodnotami:\n",
    "#     - 'Praha'\n",
    "#     - 'Brno'\n",
    "#     - 'Ostrava\n",
    "    \n",
    "\n",
    "   \n",
    "    \n",
    "# 2. Vlozte do listu hodnotu zadanou uzivatelem jako input\n",
    "\n",
    "\n",
    "#Pozn. po zadani hodnoty stisknete ENTER\n",
    "hodnota = input('Zadejte mesto ')\n",
    "\n",
    "# 3. Vlozte uzivatelem zadanou hodnotu jako posledni posledni polozku listu\n",
    "\n",
    "\n",
    "\n",
    "# 4. Vypiste aktulani podobu listu\n",
    "\n",
    "\n",
    "# 5. Smazte prvni polozku listu (tj. index 0)\n",
    "\n",
    "\n",
    "# 6. Vypiste aktualni podobu listu\n",
    "\n",
    "\n",
    "\n",
    "# 7. Iterujte (prochazejte) listem a aktualni polozku vzdy vypiste za pomoci funkce print()\n",
    "\n",
    "\n",
    "\n"
   ]
  },
  {
   "cell_type": "code",
   "execution_count": null,
   "id": "e2b0da9e",
   "metadata": {},
   "outputs": [],
   "source": [
    "# Cviceni2\n",
    "\n",
    "# 1. Vytvorte promennou typu slovnik a do ni ulozte polozky zeme:pocet obyvatel 5 nejlidnatejsich zemi EU\n",
    "\n",
    "    \n",
    "# 2. Vytvorte iteraci nad klici, kdy kazdy klic vypisete za pomoci funkce print\n",
    "\n",
    "\n",
    "\n",
    "# 3. Vytvorte iteraci (klic a hodnotu si ulozte do samostatnych promennych), pokud je hodnota vetsi 50000000 tak vypiste\n",
    "#     klic, jinak iteraci ukoncete\n",
    "    \n",
    "    \n",
    "# 4. Za pomoci funkce print() vypiste pocet obyvatel zeme Francie\n",
    "\n",
    "# 5. Odstrante posledni polozku slovniku\n",
    "\n",
    "\n",
    "# 6. Za pomoci funkce print() vypiste aktualni podobu slovniku\n"
   ]
  }
 ],
 "metadata": {
  "kernelspec": {
   "display_name": "Python 3 (ipykernel)",
   "language": "python",
   "name": "python3"
  },
  "language_info": {
   "codemirror_mode": {
    "name": "ipython",
    "version": 3
   },
   "file_extension": ".py",
   "mimetype": "text/x-python",
   "name": "python",
   "nbconvert_exporter": "python",
   "pygments_lexer": "ipython3",
   "version": "3.10.2"
  }
 },
 "nbformat": 4,
 "nbformat_minor": 5
}
