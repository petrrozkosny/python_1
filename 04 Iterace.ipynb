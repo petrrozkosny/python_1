{
 "cells": [
  {
   "cell_type": "markdown",
   "id": "fbf88b07",
   "metadata": {},
   "source": [
    "<h1>Iterace</h1>"
   ]
  },
  {
   "cell_type": "markdown",
   "id": "3d69e212",
   "metadata": {},
   "source": [
    "<h2>Prikazy pro iteraci</h2>\n",
    "\n",
    "Python ma 2 zakladni prikazy (klicova slova) pro iterace:\n",
    "-  for: prikaz pouzivany k prochazeni sekvenci, tj. list, n-tice (tuple), slovnik, string\n",
    "-  while: prikaz exekuovany do doby, kdy je vracena hodnota true\n",
    "\n",
    "mesta = ['Praha','Brno','Ostrava'] #vytvoreni promenne typu list\n",
    "for m in mesta: # prochazeni promenne s ulozenim konkretni polozky do promenne m\n",
    "    print(m)# vypsani aktualniho mesta\n"
   ]
  },
  {
   "cell_type": "code",
   "execution_count": 5,
   "id": "d0e1de58",
   "metadata": {},
   "outputs": [
    {
     "name": "stdout",
     "output_type": "stream",
     "text": [
      "Praha\n",
      "Brno\n",
      "Ostrava\n",
      "3\n",
      "pozice polozky: 0, hodnota: Praha \n",
      "pozice polozky: 1, hodnota: Brno \n",
      "pozice polozky: 2, hodnota: Ostrava \n"
     ]
    }
   ],
   "source": [
    "mesta = ['Praha','Brno','Ostrava'] #vytvoreni promenne typu list\n",
    "for m in mesta: # prochazeni promenne s ulozenim konkretni polozky do promenne m\n",
    "    print(m)# vypsani aktualniho mesta\n",
    "    \n",
    "    \n",
    "pocet_mest = len(mesta)\n",
    "i = 0\n",
    "\n",
    "while i <pocet_mest:\n",
    "    print(f'pozice polozky: {i}, hodnota: {mesta[i]} ')\n",
    "    i = i+1"
   ]
  },
  {
   "cell_type": "markdown",
   "id": "d5c72151",
   "metadata": {},
   "source": [
    "<h3> Iterace slovnikem </h3>\n",
    "\n",
    "-  Za pomoci klicoveho slova for v pripade, ze iterujeme polozkou (uroven klic:hodnota), nebo klici, nebo hodnotami\n",
    "-  Za pomoci klicoveho slova for s vytvorenim dvou promennych v pripade, ze iterujeme polozkou a na vystupu nechceme\n",
    "    v jedne promenne tvar klic:hodnota. V tomto pripade pouzivame metodu items() objektu slovnik."
   ]
  },
  {
   "cell_type": "code",
   "execution_count": 19,
   "id": "2db452ee",
   "metadata": {},
   "outputs": [
    {
     "name": "stdout",
     "output_type": "stream",
     "text": [
      "iterace celym slovnikem, aktualni polozka: Praha\n",
      "iterace celym slovnikem, aktualni polozka: Brno\n",
      "iterace celym slovnikem, aktualni polozka: Ostrava\n",
      "iterace klici, aktualni polozka: Praha\n",
      "iterace klici, aktualni polozka: Brno\n",
      "iterace klici, aktualni polozka: Ostrava\n",
      "iterace hodnotami, aktualni polozka: None\n",
      "iterace hodnotami, aktualni polozka: Jihomoravsky\n",
      "iterace hodnotami, aktualni polozka: Moravskoslezsky\n",
      "iterace polozkami s rozdelenim klice a hodnoty, aktualni klic: Praha, aktualni hodnota None\n",
      "iterace polozkami s rozdelenim klice a hodnoty, aktualni klic: Brno, aktualni hodnota Jihomoravsky\n",
      "iterace polozkami s rozdelenim klice a hodnoty, aktualni klic: Ostrava, aktualni hodnota Moravskoslezsky\n"
     ]
    }
   ],
   "source": [
    "mesta = {'Praha':None,'Brno':'Jihomoravsky','Ostrava':'Moravskoslezsky'}\n",
    "\n",
    "for m in mesta:\n",
    "    print(f'iterace celym slovnikem, aktualni polozka: {m}')\n",
    "    \n",
    "for m in mesta.keys():\n",
    "    print(f'iterace klici, aktualni polozka: {m}')\n",
    "    \n",
    "for m in mesta.values():\n",
    "    print(f'iterace hodnotami, aktualni polozka: {m}')\n",
    "\n",
    "for m,k in mesta.items():\n",
    "     print(f'iterace polozkami s rozdelenim klice a hodnoty, aktualni klic: {m}, aktualni hodnota {k}')\n",
    "    "
   ]
  },
  {
   "cell_type": "markdown",
   "id": "165aeee7",
   "metadata": {},
   "source": [
    "<h2>Rizeni iteraci</h2>\n",
    "Pokud nechceme vzdy prochazet celou sekvenci, muzeme iteraci doplnit o klicova slova\n",
    "\n",
    "-  break: pro zastaveni iterace\n",
    "-  continue: pro zastaveni iterace a pokracovani s dalsi polozkou\n",
    "\n",
    "Pozn. u iterace za pomoci prikazu while lze itraci doplnit o klicove slovo else v pripade, ze\n",
    "podminka jiz nevraci hodnotu true\n"
   ]
  },
  {
   "cell_type": "code",
   "execution_count": 15,
   "id": "d66f15e2",
   "metadata": {},
   "outputs": [
    {
     "name": "stdout",
     "output_type": "stream",
     "text": [
      "pristupuji k mestu: Praha\n",
      "pristupuji k mestu: Brno\n",
      "mesto je Brno\n"
     ]
    }
   ],
   "source": [
    "mesta = ['Praha','Brno','Ostrava'] # vytvoreni promenne typu list\n",
    "for m in mesta: # prochazeni promenne s ulozenim konkretni polozky do promenne m\n",
    "    print(f'pristupuji k mestu: {m}')\n",
    "    if m == 'Praha':\n",
    "        continue # zastavujeme aktualni iteraci a pokracujeme k dalsi polozce\n",
    "        print(m)\n",
    "    elif m == 'Brno':\n",
    "        print(f'mesto je {m}')\n",
    "        break # zastavujeme aktualni iteraci\n",
    "    \n",
    "    \n"
   ]
  },
  {
   "cell_type": "code",
   "execution_count": 14,
   "id": "acaccca2",
   "metadata": {},
   "outputs": [
    {
     "name": "stdout",
     "output_type": "stream",
     "text": [
      "pro pozici 3 neni v listu polozka\n"
     ]
    }
   ],
   "source": [
    "pocet_mest = len(mesta)\n",
    "while i <pocet_mest:\n",
    "    print(f'pozice polozky: {i}, hodnota: {mesta[i]} ') #pokud plati podminka\n",
    "    i = i+1\n",
    "else: # pokud neplati podminka\n",
    "    print(f'pro pozici {i} neni v listu polozka')\n",
    "    "
   ]
  },
  {
   "cell_type": "code",
   "execution_count": null,
   "id": "cb0da404",
   "metadata": {},
   "outputs": [],
   "source": [
    "# Cviceni 4\n",
    "\n",
    "# 1. Vytvorte promennou mesta s hodnotou ['Praha','Brno','Ostrava']\n",
    "# 2. Prochazejte jednotliva mesta, pokud se  hodnota polozky rovna Brno, iteraci zastavte, jinak vypiste hodnotu funkci print()\n"
   ]
  },
  {
   "cell_type": "code",
   "execution_count": null,
   "id": "64b7ca3a",
   "metadata": {},
   "outputs": [],
   "source": [
    "# Cviceni 5\n",
    "# 1. Vytvorte promennou mesta s hodnotou {'Praha':None,'Brno':'Jihomoravsky','Ostrava':'Moravskoslezsky'}\n",
    "# 2. Prochazejte hodnoty (values) slovniku, pokud se hodnota rovna None, zastavte aktualni iteraci a pokracujte dale, jinak vypiste aktualni hodnotu\n",
    "# 3. Prochazejte klice (keys) slovniku, pokud se klic rovna Brno, iteraci zastavte, jinak vypiste funkci print() aktualni klic\n",
    "\n",
    "\n",
    "\n",
    "    \n",
    "\n"
   ]
  }
 ],
 "metadata": {
  "kernelspec": {
   "display_name": "Python 3 (ipykernel)",
   "language": "python",
   "name": "python3"
  },
  "language_info": {
   "codemirror_mode": {
    "name": "ipython",
    "version": 3
   },
   "file_extension": ".py",
   "mimetype": "text/x-python",
   "name": "python",
   "nbconvert_exporter": "python",
   "pygments_lexer": "ipython3",
   "version": "3.10.2"
  }
 },
 "nbformat": 4,
 "nbformat_minor": 5
}
