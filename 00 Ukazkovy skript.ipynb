{
 "cells": [
  {
   "cell_type": "code",
   "execution_count": 3,
   "id": "1320afcd",
   "metadata": {},
   "outputs": [
    {
     "name": "stdout",
     "output_type": "stream",
     "text": [
      "Vloz id mesta pro zjisteni pocasi a stiskni klavesu ENTER 6200\n",
      "Zjistuji pocasi pro mesto Leskovec  \n",
      "Je sychravo\n"
     ]
    }
   ],
   "source": [
    "#import modulu\n",
    "import requests\n",
    "import re\n",
    "from bs4  import BeautifulSoup as bs\n",
    "\n",
    "mesto = input('Vloz id mesta pro zjisteni pocasi a stiskni klavesu ENTER ')\n",
    "\n",
    "# Otestuj kod\n",
    "try:\n",
    "    #Pokud lze mesto prevest na cislo\n",
    "    int(mesto)\n",
    "\n",
    "    \n",
    "    r = requests.get(rf'https://www.meteocentrum.cz/predpoved-pocasi/cz/{mesto}')\n",
    "\n",
    "    # Pokud stranka funguje, pokracuj dale\n",
    "    if r.status_code == 200:\n",
    "\n",
    "\n",
    "        pocasi = r'Aktuálně\\s.*\\s.*\\s.*\\s.*\\s.*\\s.*>([\\d-]{1,20})'\n",
    "        lokalita_dle_id = r'h1.(.*)?<span'\n",
    "\n",
    "        obsah = bs(r.content,'html.parser')\n",
    "        aktualne = re.findall(pocasi,str(obsah))\n",
    "        mesto = re.findall(lokalita_dle_id,str(obsah))[0]\n",
    "        aktualne = float(aktualne[0])\n",
    "\n",
    "        print(f'Zjistuji pocasi pro mesto {mesto}')\n",
    "\n",
    "\n",
    "        # Kontrola pocasi\n",
    "        if aktualne < 0:\n",
    "            print('Mrzne')\n",
    "        elif aktualne < 10:\n",
    "            print('Je sychravo')\n",
    "        elif aktualne < 20:\n",
    "            print('Uz to neni na bundu')\n",
    "        else:\n",
    "            print('Je teplo')\n",
    "\n",
    "    # Pokud stranka nefunguje, vypis nize uvedene\n",
    "    else:\n",
    "        print('Pocasi nelze zjistit')\n",
    "\n",
    "        \n",
    "except ValueError:\n",
    "    # Pokud hodnotu nelze prevet na cislo\n",
    "    print(f'Hodnota {mesto} neni cislo')\n"
   ]
  },
  {
   "cell_type": "code",
   "execution_count": null,
   "id": "93cc9873",
   "metadata": {},
   "outputs": [],
   "source": []
  }
 ],
 "metadata": {
  "kernelspec": {
   "display_name": "Python 3 (ipykernel)",
   "language": "python",
   "name": "python3"
  },
  "language_info": {
   "codemirror_mode": {
    "name": "ipython",
    "version": 3
   },
   "file_extension": ".py",
   "mimetype": "text/x-python",
   "name": "python",
   "nbconvert_exporter": "python",
   "pygments_lexer": "ipython3",
   "version": "3.10.2"
  }
 },
 "nbformat": 4,
 "nbformat_minor": 5
}
