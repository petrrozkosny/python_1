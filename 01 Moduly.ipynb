{
 "cells": [
  {
   "cell_type": "markdown",
   "id": "cfd11e84",
   "metadata": {},
   "source": [
    "<h1>Moduly</h1>"
   ]
  },
  {
   "cell_type": "markdown",
   "id": "668e6f5f",
   "metadata": {},
   "source": [
    "<h2>Definice modulu</h2>\n",
    "\n",
    "Modul je soubor obsahujici prikazy a definice jazyka Python\n",
    "Nazev modulu je dan nazvem souboru, ve kterem jsou prikazy a definice ulozeny\n",
    "Import (vlozeni) modulu do skriptu je mozny za pomoci klicoveho slova import\n",
    "\n",
    "\n",
    "<h3>Moznosti importu modulu</h3>\n",
    "\n",
    "-  import cele knihovny, napr. import bs4, pri vyuziti konkretni casti je treba se odvolat na nazev modulu, tj. bs4.BeatifulSoup\n",
    "-  import konkretni casti modulu, napr. from bs4 import BeautifulSoup, zde se jit neni treba odvolavat na nazev modulu, ale rovnou na jeho konkretni cast\n",
    "-  import modulu ci jeho konkretni casti s naslenym pouzitim aliasu, napr. import bs4 as bs NEBO from bs4 import BeautifulSoup as bs, kdy konkretni prikazy a definice jsou dostupne pod timto aliasem\n",
    "\n",
    "\n",
    "<h3>Konvece importu modulu</h3>\n",
    "\n",
    "-  import probiha ihned na zacatku skriptu\n",
    "-  jednotlive importy jsou na samostatnych radcich\n",
    "-  preferenci maji absolutni importy pred relativnimi\n",
    "-  import za pomoci from module imnport * neni dobry napad\n",
    "-  nejdrive importujeme standardni modulu, nasledni moduly tretich stran a nasledne lokalni moduly a balicky\n",
    "\n",
    "<h3>Instalace modulu tretich stran</h3>\n",
    "\n",
    "Pred samotnym importem je modul nutne nainstalovat, a to prostrednictvim manazeru Python modulu, tzv. PIP\n",
    "Import manazera je mozny zde: https://pypi.org/project/pip/\n",
    "\n",
    "Priklad instalace konkretniho modulu v prikazovem radku:\n",
    "<code>pip install requests</code>\n",
    "\n",
    "Krome instalace lze moduly aktualizovat ci odinstalovat.\n"
   ]
  },
  {
   "cell_type": "code",
   "execution_count": null,
   "id": "91793b34",
   "metadata": {},
   "outputs": [],
   "source": []
  }
 ],
 "metadata": {
  "kernelspec": {
   "display_name": "Python 3 (ipykernel)",
   "language": "python",
   "name": "python3"
  },
  "language_info": {
   "codemirror_mode": {
    "name": "ipython",
    "version": 3
   },
   "file_extension": ".py",
   "mimetype": "text/x-python",
   "name": "python",
   "nbconvert_exporter": "python",
   "pygments_lexer": "ipython3",
   "version": "3.10.2"
  }
 },
 "nbformat": 4,
 "nbformat_minor": 5
}
