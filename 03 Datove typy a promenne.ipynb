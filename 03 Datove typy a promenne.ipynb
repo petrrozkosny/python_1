{
 "cells": [
  {
   "cell_type": "markdown",
   "id": "17c4f6f4",
   "metadata": {},
   "source": [
    "<h1>Promenne<h1>"
   ]
  },
  {
   "cell_type": "markdown",
   "id": "0dae0353",
   "metadata": {},
   "source": [
    "<h2>Vytvoreni promennych</h2>\n",
    "Pokud s hodnotou pracujeme opakovane, je vhodne si ji ulozit do tzv. promenne.\n",
    "Promenna je misto v operacni pameti, jehoz hodnota je nam dostupna pres tzv. pointer (nazev promenne)\n",
    "Promenou definujeme zapisem jejiho nazvu a hodnoty\n",
    "\n",
    "Pojmenovani promenne se ridi temito pravidly:\n",
    "-  nazev promenne musi zacinat pismenem nebo podtrzitkem\n",
    "-  nazev promenne nesmi zacinat cislem\n",
    "-  nazvy promennych jsou case-sensitive, tj. Jazyk a jazyk jsou dve rozdilne promenne\n",
    "-  nazev promenne se nesmi rovnat vyhrazenym klicovym slovum, viz https://docs.python.org/release/2.5.4/ref/keywords.html\n",
    "\n",
    "V Python nemusime (ale muzeme) definovat typ promenne"
   ]
  },
  {
   "cell_type": "code",
   "execution_count": 1,
   "id": "75cc09ba",
   "metadata": {},
   "outputs": [
    {
     "name": "stdout",
     "output_type": "stream",
     "text": [
      "Jazyk je Python\n",
      "typ promenne cislo <class 'int'>\n",
      "typ promenne cislo2 <class 'str'>\n"
     ]
    }
   ],
   "source": [
    "# Pozn. textove hodnoty je treba uvodit uvozovkami ci apostrofy. Je na uzivateli, kterou z moznosti zvoli\n",
    "jazyk = 'Python'\n",
    "print('Jazyk je',jazyk)\n",
    "# Promenna typu cislo\n",
    "cislo = 1\n",
    "# Promenna typu text\n",
    "cislo2 = str(1)\n",
    "\n",
    "print('typ promenne cislo',type(cislo))\n",
    "print('typ promenne cislo2',type(cislo2))"
   ]
  },
  {
   "cell_type": "markdown",
   "id": "50b60eba",
   "metadata": {},
   "source": [
    "<h3>Datove typy promennych</h3>\n",
    "\n",
    "-  mezi tzv. primitivni datove typy patri:\n",
    "    -  text: str\n",
    "    -  numericke typy: int, float, complex\n",
    "    -  booleanovsky typ: bool\n",
    "    -  prázdný typ: None\n",
    "        \n",
    "- mezi tzv. neprimitivni datove typy patri:\n",
    "    -  list: list\n",
    "    -  n-tice: tuple\n",
    "    -  slovnik: dict\n",
    "    -  množina: set\n",
    "    -  soubor: file\n",
    "    \n",
    "    \n",
    " \n",
    "<h3>Menitelnost promennych</h3>\n",
    "Promenne rozlisujeme i dle toho, jestli je jejich hodnota menitelna (anglicky mutable), nebo nebo nemenitelna (anglicky immutable).\n",
    "\n",
    "-  nemenitelne datove typy jsou: int, float, bool, string, tuple, unicode\n",
    "-  menitelne datove typy jsou: list, dict, set\n",
    "\n",
    "\n",
    "<h3>Vice k neprimitivnim datovym typum</h3>\n",
    "\n",
    "<h4>List</h4>\n",
    "\n",
    "-  Datovy typ list definujeme hranatymy zavorkami, tj. []\n",
    "-  List obsahuje serazene hodnoty, je menitelny a umoznuje duplicity\n",
    "-  Pokud do listu pridame novou hodnotu, je automaticky umistena na posledni pozici\n",
    "-  Jednotlive polozky listu mohou mit ruzne datove typy\n",
    "\n",
    "Vice k listu: https://docs.python.org/3/tutorial/datastructures.html\n",
    "\n",
    "<h4>N-tice</h4>\n",
    "\n",
    "-  Datovy typ n-tice definujeme kulatymi zavorkami, tj. ()\n",
    "-  List obsahuje serazene hodnoty, je menitelny a umoznuje duplicity)\n",
    "-  Jednotlive polozky listu mohou mit ruzne datove typy)\n",
    "\n",
    "Vice n-tici: https://docs.python.org/3/library/stdtypes.html#typesseq\n",
    "\n",
    "<h4>Slovnik</h4>\n",
    "\n",
    "-  Datovy typ slovnik definujeme slozenymi zavorkami, tj. {}\n",
    "-  Slovnik slouzi k ulozeni hodnot v parech, kdy definujeme klic a hodnotu daneho paru\n",
    "-  Slovnik obsahuje serazene hodnoty, je menitelny a neumoznuje duplicity\n",
    "\n",
    "Vice k slovniku: https://docs.python.org/3/tutorial/datastructures.html#dictionaries\n",
    "\n",
    "<h4>Mnozina</h4>\n",
    "-  Datovy typ mnozina definujeme slozenymi zavorkami, tj. {}\n",
    "-  Mnozina obsahuje neserazene a nemenitelne hodnoty, neumoznuje duplicity\n",
    "-  Jednotlive polozky mnoziny mohou mit ruzne datove typy\n",
    "\n",
    "Vice k mnozinam: https://docs.python.org/3/tutorial/datastructures.html#sets\n",
    "\n",
    "\n",
    "\n",
    "\n",
    "\n",
    "\n"
   ]
  },
  {
   "cell_type": "markdown",
   "id": "952ecd0a",
   "metadata": {},
   "source": [
    "<h2>Prace s neprimitivnimi datovymi typy</h2>\n",
    "\n",
    "\n"
   ]
  },
  {
   "cell_type": "markdown",
   "id": "a71e878f",
   "metadata": {},
   "source": [
    "<h3>Uprava neprimitivnich datovych typu</h3>"
   ]
  },
  {
   "cell_type": "markdown",
   "id": "9104c95a",
   "metadata": {},
   "source": [
    "\n",
    "<h4>List</h4>\n",
    "\n",
    "Vychazejme z listu zeme = ['Praha','Brno','Ostrava']\n",
    "\n",
    "-  Pristup na konkretni polozku listu: mesta[0]\n",
    "-  Zmena hodnoty na konkretni pozici: mesta[0] = 'Brno'\n",
    "-  Zmena delky listu: mesta[0:1]\n",
    "-  Pridani polozky na konec listu: mesta.append('Plzen')\n",
    "-  Pridani polozky na konkretni pozici: mesta.insert(1,'Olomouc')\n",
    "-  Odstraneni polozky z listu: mesta.remove('Olomouc')\n",
    "-  Odstraneni konkretni pozice z listu: mesta.pop(0)"
   ]
  },
  {
   "cell_type": "code",
   "execution_count": 13,
   "id": "bc0b47fc",
   "metadata": {},
   "outputs": [
    {
     "name": "stdout",
     "output_type": "stream",
     "text": [
      "Prvni polozka listu: Praha\n",
      "List po aktualizaci: ['Brno', 'Brno', 'Ostrava']\n",
      "List po uprave delky: ['Brno', 'Brno']\n",
      "List po metode append: ['Brno', 'Brno', 'Plzen']\n",
      "List po metode insert: ['Brno', 'Olomouc', 'Brno', 'Plzen']\n",
      "List po metode remove: ['Brno', 'Brno', 'Plzen']\n",
      "List po metode pop: ['Brno', 'Plzen']\n"
     ]
    }
   ],
   "source": [
    "mesta = ['Praha','Brno','Ostrava']\n",
    "print(f'Prvni polozka listu: {mesta[0]}')\n",
    "\n",
    "mesta[0] = 'Brno'\n",
    "print(f'List po aktualizaci: {mesta}')\n",
    "\n",
    "mesta = mesta[0:2]\n",
    "print(f'List po uprave delky: {mesta}')\n",
    "\n",
    "mesta.append('Plzen')\n",
    "print(f'List po metode append: {mesta}')\n",
    "\n",
    "mesta.insert(1,'Olomouc')\n",
    "print(f'List po metode insert: {mesta}')\n",
    "\n",
    "\n",
    "mesta.remove('Olomouc')\n",
    "print(f'List po metode remove: {mesta}')\n",
    "\n",
    "mesta.pop(0)\n",
    "print(f'List po metode pop: {mesta}')\n",
    "\n"
   ]
  },
  {
   "cell_type": "code",
   "execution_count": 17,
   "id": "25cf61b0",
   "metadata": {},
   "outputs": [],
   "source": [
    "# Cviceni1\n",
    "\n",
    "# 1. Vytvorte list s hodnotami 'Brno','Praha','Brno','Ostrava','Plzen'\n",
    "# 2. Aktualizujte list tak, ze odstranite polozku s indexem 0 (tj. prvni mesto)\n",
    "# 3. Na konec listu pridejte novou polozku 'Olomouc'\n",
    "# 4. Pres funkci print vypiste aktualni podobu listu\n",
    "\n",
    "\n"
   ]
  },
  {
   "cell_type": "code",
   "execution_count": 20,
   "id": "35202f51",
   "metadata": {},
   "outputs": [
    {
     "name": "stdout",
     "output_type": "stream",
     "text": [
      "['Cesko', 'Slovensko', 'Madarsko', 'Polsko']\n"
     ]
    }
   ],
   "source": [
    "#Cviceni2\n",
    "\n",
    "# 1. Vytvorte list zeme s hodnotami 'Slovensko','Madarsko','Polsko','Rakousko','Nemecko'\n",
    "# 2. Omezte list tak, aby obsahovat pouze prvni tri zeme zleva\n",
    "# 3. Na prvni pozici (tj. index 0) dosadte hodnotu 'Cesko'\n",
    "# 4. Pres funkci print vypiste aktualni podobu listu11"
   ]
  },
  {
   "cell_type": "markdown",
   "id": "ca3f07b7",
   "metadata": {},
   "source": [
    "<h4>N-tice (tuple)</h4>\n",
    "\n",
    "Vychazejem z n-tice (tuple) mesta = ('Praha','Brno','Ostrava')\n",
    "\n",
    "-  Pristup na konkretni polozku listu: mesta[0]"
   ]
  },
  {
   "cell_type": "markdown",
   "id": "229fc133",
   "metadata": {},
   "source": [
    "<h4>Slovnik (dictionary)</h4>\n",
    "\n",
    "Vychazejme ze slovniku\n",
    "mesta = {'Praha':None,'Brno':'Jihomoravsky','Ostrava':'Moravskoslezsky'}\n",
    "\n",
    "-  Pristup na konkretni polozku listu: mesta['Brno'] , pripadne mesta.get('Brno')\n",
    "-  Pristup na klice, kdy navratovou hodnotou je list: mesta.keys()\n",
    "-  Pristup na hodnoty, kdy navratovou hodnotou je list: mesta.values()\n",
    "-  Zmena polozky: mesta['Praha'] = 'Hlavni mesto Praha', pripadne mesta.update({'Praha':'Hlavni mesto Praha'})\n",
    "-  Pridani polozky na konec slovniku: mesta['Olomouc'] = 'Olomoucky', pripadne mesta.update({'Olomouc':'Olomoucky'})\n",
    "-  Odstraneni polozky z listu: del mesta['Olomouc'], pripadne mesta.pop('Olomouc')\n",
    "-  Odstraneni posledni polozky z listu mesta.popitem()\n",
    "-  Odstraneni vsech polozek ze slovniku: mesta.clear()\n",
    "\n",
    "    \n",
    "    "
   ]
  },
  {
   "cell_type": "code",
   "execution_count": 33,
   "id": "951009ce",
   "metadata": {},
   "outputs": [
    {
     "name": "stdout",
     "output_type": "stream",
     "text": [
      "dict_items([('Praha', None), ('Brno', 'Jihomoravsky'), ('Ostrava', 'Moravskoslezsky')])\n",
      "{'Praha': None, 'Brno': 'Jihomoravsky', 'Ostrava': 'Moravskoslezsky', 'f': 'Hlavni mesto Praha'}\n"
     ]
    }
   ],
   "source": [
    "mesta = {'Praha':None,'Brno':'Jihomoravsky','Ostrava':'Moravskoslezsky'}\n",
    "\n",
    "print(mesta.items())\n",
    "mesta.update({'f':'Hlavni mesto Praha'})\n",
    "print(mesta)"
   ]
  },
  {
   "cell_type": "code",
   "execution_count": null,
   "id": "27ade720",
   "metadata": {},
   "outputs": [],
   "source": [
    "#Cviceni 3\n",
    "\n",
    "# 1. Vytvořte slovník zeme a do něj dosaďte informaci o názvu a počtu obyvatel 3 nejlidnatejsich zemi EU, viz https://cs.wikipedia.org/wiki/Seznam_%C4%8Dlensk%C3%BDch_st%C3%A1t%C5%AF_Evropsk%C3%A9_unie_podle_po%C4%8Dtu_obyvatel\n",
    "# 2. Za pomoci funkce print() vypiste nazvy zemi (tj. klice slovniku)\n",
    "# 3. Na konec slovniku pridejte ctvrtou nejlidnatejsi zemi\n",
    "# 4. Za pomoci funkce print() vypiste pocet obyvatel zeme Francie\n",
    "\n"
   ]
  },
  {
   "cell_type": "code",
   "execution_count": null,
   "id": "81bb1042",
   "metadata": {},
   "outputs": [],
   "source": [
    "#Cviceni 4\n",
    "\n",
    "# 1. Znovu pouzijte slovnik z prvniho bodu predchoziho cviceni\n",
    "# 2. Aktualizujte hodnotu pro zemi Francie na 67656000\n",
    "# 3. Smazte posledni polozku slovniku\n",
    "# 4. Do slovniku pridejte klic:hodnota Polsko:37840001\n",
    "# 5. Za pomoci print vypiste aktualni podobu slovniku\n"
   ]
  },
  {
   "cell_type": "markdown",
   "id": "2d152d9d",
   "metadata": {},
   "source": [
    "<h3>Prochazeni neprimitovych datovych typu</h3>"
   ]
  },
  {
   "cell_type": "markdown",
   "id": "05311f03",
   "metadata": {},
   "source": [
    "<h4>List</h4>\n",
    "\n",
    "Prochazet list je mozne za pomoci klicoveho slova for. Kazdou jednu polozku listu si ulozime do promenne.\n",
    "\n",
    "<code>mesta = ['Praha','Brno','Ostrava'] #vytvoreni promenne typu list\n",
    "for m in mesta: # prochazeni promenne s ulozenim konkretni polozky do promenne m\n",
    "    print(m)# vypsani aktualniho mesta</code>  \n",
    "    \n",
    "    \n",
    " \n"
   ]
  },
  {
   "cell_type": "code",
   "execution_count": 35,
   "id": "aaa63da1",
   "metadata": {},
   "outputs": [
    {
     "name": "stdout",
     "output_type": "stream",
     "text": [
      "Praha\n",
      "Brno\n",
      "Ostrava\n"
     ]
    }
   ],
   "source": [
    "mesta = ['Praha','Brno','Ostrava']\n",
    "for m in mesta:\n",
    "    print(m)"
   ]
  },
  {
   "cell_type": "code",
   "execution_count": null,
   "id": "939c42bf",
   "metadata": {},
   "outputs": [],
   "source": []
  }
 ],
 "metadata": {
  "kernelspec": {
   "display_name": "Python 3 (ipykernel)",
   "language": "python",
   "name": "python3"
  },
  "language_info": {
   "codemirror_mode": {
    "name": "ipython",
    "version": 3
   },
   "file_extension": ".py",
   "mimetype": "text/x-python",
   "name": "python",
   "nbconvert_exporter": "python",
   "pygments_lexer": "ipython3",
   "version": "3.10.2"
  }
 },
 "nbformat": 4,
 "nbformat_minor": 5
}
