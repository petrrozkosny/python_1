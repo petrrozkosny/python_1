{
 "cells": [
  {
   "cell_type": "code",
   "execution_count": 3,
   "id": "5158b21b",
   "metadata": {},
   "outputs": [
    {
     "name": "stdout",
     "output_type": "stream",
     "text": [
      "pridano\n",
      "['praha', 'ostrava', ['praha', 'brno', 'ostrava']]\n",
      "pridano\n",
      "['praha', 'ostrava', ['praha', 'brno', 'ostrava'], ['bratislava', 'kosice', 'trnava']]\n",
      "pridano\n",
      "['praha', 'ostrava', ['praha', 'brno', 'ostrava'], ['bratislava', 'kosice', 'trnava'], ['bratislava', 'kosice', 'trnava']]\n",
      "pridano\n",
      "['praha', 'ostrava', ['praha', 'brno', 'ostrava'], ['bratislava', 'kosice', 'trnava'], ['bratislava', 'kosice', 'trnava'], ['bratislava', 'kosice', 'trnava']]\n",
      "pridano\n",
      "['praha', 'ostrava', ['praha', 'brno', 'ostrava'], ['bratislava', 'kosice', 'trnava'], ['bratislava', 'kosice', 'trnava'], ['bratislava', 'kosice', 'trnava'], ['viden', 'graz', 'salzburg']]\n",
      "pridano\n",
      "['praha', 'ostrava', ['praha', 'brno', 'ostrava'], ['bratislava', 'kosice', 'trnava'], ['bratislava', 'kosice', 'trnava'], ['bratislava', 'kosice', 'trnava'], ['viden', 'graz', 'salzburg'], ['viden', 'graz', 'salzburg']]\n",
      "pridano\n",
      "['praha', 'ostrava', ['praha', 'brno', 'ostrava'], ['bratislava', 'kosice', 'trnava'], ['bratislava', 'kosice', 'trnava'], ['bratislava', 'kosice', 'trnava'], ['viden', 'graz', 'salzburg'], ['viden', 'graz', 'salzburg'], ['viden', 'graz', 'salzburg']]\n"
     ]
    }
   ],
   "source": [
    "\n",
    "# 1. Iterujte slovnikem zeme (pozor na to, ze hodnoty jsou datove typy list)\n",
    "# 2. Vytvorte iteraci a pocitejte:\n",
    "#     - pokud je klicem 'cesko' a hodnota neni v listu mesta_cr, pridejte ji na konec listu\n",
    "#     - pokud je klicem 'cesko' a hodnota je v listu mesta_cr, vypiste 'Mesto je jiz v listu'\n",
    "#     - pokud neni klicem 'cesko', vypiste 'Mesto neni v cesku'\n",
    "\n",
    "\n",
    "zeme = {'cesko':['praha','brno','ostrava'],'slovensko':['bratislava','kosice','trnava'],'rakousko':['viden','graz','salzburg']}\n",
    "mesta_cr = ['praha','ostrava']\n",
    "\n",
    "\n",
    "\n",
    "\n",
    "\n"
   ]
  },
  {
   "cell_type": "code",
   "execution_count": 6,
   "id": "cdf48e32",
   "metadata": {},
   "outputs": [
    {
     "name": "stdout",
     "output_type": "stream",
     "text": [
      "Zadejte zemi: rumunsko\n"
     ]
    }
   ],
   "source": [
    "# 3. Uzivatel zada do promenne input zemi, jejiz mesta by rad vypsal.\n",
    "# 4. Vytvorte podminku:\n",
    "#     - pokud je hodnota vstupu uzivatele mezi klici slovniku zeme, vypiste hodnoty tohoto klice\n",
    "#     - pokud hodnota vstupu uzivatele neni mezi klici slovniku zeme, vypiste 'Pro danou zemi nejsou mesta znama'\n",
    "\n",
    "\n",
    "vstup = input('Zadejte zemi: ')\n",
    "zeme = {'cesko':['praha','brno','ostrava'],'slovensko':['bratislava','kosice','trnava'],'rakousko':['viden','graz','salzburg']}\n",
    "\n",
    "\n",
    "    "
   ]
  },
  {
   "cell_type": "code",
   "execution_count": null,
   "id": "aaa45172",
   "metadata": {},
   "outputs": [],
   "source": [
    "\n",
    "# 5. Prochazejte slovnik mesta a vytvorte podminku:\n",
    "#     - pokud je hodnota klice None a klic se rovna praha, stavajici iteraci zastavte a pokracujte v dalsi\n",
    "#     - pokud je hodnota klice None a klic se nerovna praha, pridejte klic do listu mesta_bez_kraje\n",
    "#     - pokud neni hodnota klice None, vypiste: Pro mesto {mesto} je kraj znam\n",
    "# 6. Vypiste list mesta_bez_kraje\n",
    "\n",
    "mesta = {'praha':None,'brno':'jihomoravsky','ostrava':'moravskoslezsky','plzen':None,'olomouc':'olomoucky'}\n",
    "mesta_bez_kraje = []\n"
   ]
  },
  {
   "cell_type": "code",
   "execution_count": null,
   "id": "c996d673",
   "metadata": {},
   "outputs": [],
   "source": [
    "# 7. V promenne mesto je hodnota zadana uzivatelem\n",
    "# 8. Prochazejte slovnik mesta a vytvorte podminku\n",
    "#     - pokud je mesto mezi klici slovniku, vypiste: Mesto {vstup} je jiz zahrnuta\n",
    "#     - pokud neni mesto mezi klici slovniku:\n",
    "#             - pridejte toto mesto jako klic s hodnotou None\n",
    "#             - vypiste uzivateli: Mesto {vstup} byla pridana\n",
    "\n",
    "\n",
    "mesta = {'praha':None,'brno':'jihomoravsky','ostrava':'moravskoslezsky','plzen':None,'olomouc':'olomoucky'}\n",
    "                \n",
    "                \n"
   ]
  },
  {
   "cell_type": "code",
   "execution_count": 15,
   "id": "34d4a3bd",
   "metadata": {},
   "outputs": [
    {
     "name": "stdout",
     "output_type": "stream",
     "text": [
      "Praha   7\n",
      "Brno   5\n",
      "Olomouc   6\n",
      "Brno   5\n"
     ]
    }
   ],
   "source": [
    "\n",
    "# 9. Nize uvedeny skript vraci dve promenne, tyto promenne je treba ulozit tak, abychom nasledne mohli spolehlive zjistit,\n",
    "#     jake pocasi v danem mestu bylo.\n",
    "# 10. List mesta obsahuje duplicitni hodnoty, ale pro dalsi praci potrebujeme zajistit unikatnost hodnot\n",
    "\n",
    "\n",
    "\n",
    "import requests\n",
    "from bs4  import BeautifulSoup as bs\n",
    "import re\n",
    "import time\n",
    "\n",
    "mesta =[\n",
    "    'https://www.meteocentrum.cz/predpoved-pocasi/cz/6250',\n",
    "    'https://www.meteocentrum.cz/predpoved-pocasi/cz/740',\n",
    "    'https://www.meteocentrum.cz/predpoved-pocasi/cz/3247',\n",
    "    'https://www.meteocentrum.cz/predpoved-pocasi/cz/740'\n",
    "]\n",
    "\n",
    "\n",
    "for m in mesta:\n",
    "    r = requests.get(m)\n",
    "    if r.status_code == 200:\n",
    "        pocasi = r'Aktuálně\\s.*\\s.*\\s.*\\s.*\\s.*\\s.*>([\\d-]{1,20})'\n",
    "        lokalita_dle_id = r'h1.(.*)?<span'\n",
    "\n",
    "        obsah = bs(r.content,'html.parser')\n",
    "        \n",
    "        #Promenne pro pridani do slovniku\n",
    "        aktualne = int(re.findall(pocasi,str(obsah))[0])\n",
    "        mesto = re.findall(lokalita_dle_id,str(obsah))[0]\n",
    "        print(mesto,aktualne)\n",
    "        \n",
    "        \n",
    "       \n",
    "        "
   ]
  },
  {
   "cell_type": "code",
   "execution_count": null,
   "id": "f55aef67",
   "metadata": {},
   "outputs": [],
   "source": []
  }
 ],
 "metadata": {
  "kernelspec": {
   "display_name": "Python 3 (ipykernel)",
   "language": "python",
   "name": "python3"
  },
  "language_info": {
   "codemirror_mode": {
    "name": "ipython",
    "version": 3
   },
   "file_extension": ".py",
   "mimetype": "text/x-python",
   "name": "python",
   "nbconvert_exporter": "python",
   "pygments_lexer": "ipython3",
   "version": "3.10.2"
  }
 },
 "nbformat": 4,
 "nbformat_minor": 5
}
