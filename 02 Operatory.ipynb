{
 "cells": [
  {
   "cell_type": "markdown",
   "id": "0cc8e361",
   "metadata": {},
   "source": [
    "<h2>Aritmeticke operatory</h2>\n",
    "\n",
    "Operator | Popis \n",
    "---|----\n",
    " + | sitani\n",
    " - | odcitani\n",
    " * | nasobeni\n",
    " / | deleni\n",
    " % | modulo\n",
    " ** | umocneni\n",
    " \n",
    " \n",
    " "
   ]
  },
  {
   "cell_type": "markdown",
   "id": "97724af3",
   "metadata": {},
   "source": [
    "<h2>Porovnavaci operatory</h2>\n",
    "\n",
    "Operator | Popis \n",
    "---|----\n",
    "== | je rovno\n",
    "!= | neni rovno\n",
    "< | vetsi\n",
    "<= | vetsi ci rovno\n",
    "> | mensi\n",
    ">= | mensi ci rovno\n"
   ]
  },
  {
   "cell_type": "markdown",
   "id": "e463680a",
   "metadata": {},
   "source": [
    "<h2>Logicke operatory</h2>\n",
    "\n",
    "Operator | Popis \n",
    "---|----\n",
    "and | a zaroven\n",
    "or | nebo\n",
    "not | negace podminky\n",
    "\n"
   ]
  },
  {
   "cell_type": "markdown",
   "id": "daeeb239",
   "metadata": {},
   "source": [
    "<h2>Operatory clenstvi</h2>\n",
    "\n",
    "Operator | Popis \n",
    "---|----\n",
    "in | hodnota je soucasti sekvence\n",
    "not in | hodnota neni soucasti sekvence\n",
    "\n"
   ]
  },
  {
   "cell_type": "code",
   "execution_count": null,
   "id": "3601b83a",
   "metadata": {},
   "outputs": [],
   "source": []
  }
 ],
 "metadata": {
  "kernelspec": {
   "display_name": "Python 3 (ipykernel)",
   "language": "python",
   "name": "python3"
  },
  "language_info": {
   "codemirror_mode": {
    "name": "ipython",
    "version": 3
   },
   "file_extension": ".py",
   "mimetype": "text/x-python",
   "name": "python",
   "nbconvert_exporter": "python",
   "pygments_lexer": "ipython3",
   "version": "3.10.2"
  }
 },
 "nbformat": 4,
 "nbformat_minor": 5
}
